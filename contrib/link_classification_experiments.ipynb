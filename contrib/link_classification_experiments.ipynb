{
  "nbformat": 4,
  "nbformat_minor": 0,
  "metadata": {
    "colab": {
      "provenance": [],
      "authorship_tag": "ABX9TyM94FGa4cwSRPBJq6VZbBKR",
      "include_colab_link": true
    },
    "kernelspec": {
      "name": "python3",
      "display_name": "Python 3"
    },
    "language_info": {
      "name": "python"
    }
  },
  "cells": [
    {
      "cell_type": "markdown",
      "metadata": {
        "id": "view-in-github",
        "colab_type": "text"
      },
      "source": [
        "<a href=\"https://colab.research.google.com/github/opensanctions/storyweb/blob/main/contrib/link_classification_experiments.ipynb\" target=\"_parent\"><img src=\"https://colab.research.google.com/assets/colab-badge.svg\" alt=\"Open In Colab\"/></a>"
      ]
    },
    {
      "cell_type": "code",
      "source": [
        "# Install python and other dependencies\n",
        "!nvcc --version\n",
        "!pip install -U pip wheel\n",
        "!pip install -U 'spacy[cuda111]==3.3.0' \n",
        "!pip install pyicu normality fingerprints nltk\n",
        "!python -m spacy download en_core_web_sm\n",
        "!python -m spacy validate"
      ],
      "metadata": {
        "colab": {
          "base_uri": "https://localhost:8080/"
        },
        "id": "Qn00yBfPNrTr",
        "outputId": "b83f40ae-5f23-446c-87d4-40c28757fb24"
      },
      "execution_count": 1,
      "outputs": [
        {
          "output_type": "stream",
          "name": "stdout",
          "text": [
            "nvcc: NVIDIA (R) Cuda compiler driver\n",
            "Copyright (c) 2005-2021 NVIDIA Corporation\n",
            "Built on Sun_Feb_14_21:12:58_PST_2021\n",
            "Cuda compilation tools, release 11.2, V11.2.152\n",
            "Build cuda_11.2.r11.2/compiler.29618528_0\n",
            "Looking in indexes: https://pypi.org/simple, https://us-python.pkg.dev/colab-wheels/public/simple/\n",
            "Requirement already satisfied: pip in /usr/local/lib/python3.8/dist-packages (22.0.4)\n",
            "Collecting pip\n",
            "  Downloading pip-23.0-py3-none-any.whl (2.1 MB)\n",
            "\u001b[2K     \u001b[90m━━━━━━━━━━━━━━━━━━━━━━━━━━━━━━━━━━━━━━━━\u001b[0m \u001b[32m2.1/2.1 MB\u001b[0m \u001b[31m21.5 MB/s\u001b[0m eta \u001b[36m0:00:00\u001b[0m\n",
            "\u001b[?25hRequirement already satisfied: wheel in /usr/local/lib/python3.8/dist-packages (0.38.4)\n",
            "Installing collected packages: pip\n",
            "  Attempting uninstall: pip\n",
            "    Found existing installation: pip 22.0.4\n",
            "    Uninstalling pip-22.0.4:\n",
            "      Successfully uninstalled pip-22.0.4\n",
            "Successfully installed pip-23.0\n",
            "Looking in indexes: https://pypi.org/simple, https://us-python.pkg.dev/colab-wheels/public/simple/\n",
            "Collecting spacy[cuda111]==3.3.0\n",
            "  Downloading spacy-3.3.0-cp38-cp38-manylinux_2_17_x86_64.manylinux2014_x86_64.whl (6.4 MB)\n",
            "\u001b[2K     \u001b[90m━━━━━━━━━━━━━━━━━━━━━━━━━━━━━━━━━━━━━━━━\u001b[0m \u001b[32m6.4/6.4 MB\u001b[0m \u001b[31m36.1 MB/s\u001b[0m eta \u001b[36m0:00:00\u001b[0m\n",
            "\u001b[?25hRequirement already satisfied: spacy-loggers<2.0.0,>=1.0.0 in /usr/local/lib/python3.8/dist-packages (from spacy[cuda111]==3.3.0) (1.0.4)\n",
            "Requirement already satisfied: setuptools in /usr/local/lib/python3.8/dist-packages (from spacy[cuda111]==3.3.0) (57.4.0)\n",
            "Requirement already satisfied: wasabi<1.1.0,>=0.9.1 in /usr/local/lib/python3.8/dist-packages (from spacy[cuda111]==3.3.0) (0.10.1)\n",
            "Requirement already satisfied: requests<3.0.0,>=2.13.0 in /usr/local/lib/python3.8/dist-packages (from spacy[cuda111]==3.3.0) (2.25.1)\n",
            "Requirement already satisfied: srsly<3.0.0,>=2.4.3 in /usr/local/lib/python3.8/dist-packages (from spacy[cuda111]==3.3.0) (2.4.5)\n",
            "Collecting pydantic!=1.8,!=1.8.1,<1.9.0,>=1.7.4\n",
            "  Downloading pydantic-1.8.2-cp38-cp38-manylinux2014_x86_64.whl (13.7 MB)\n",
            "\u001b[2K     \u001b[90m━━━━━━━━━━━━━━━━━━━━━━━━━━━━━━━━━━━━━━━━\u001b[0m \u001b[32m13.7/13.7 MB\u001b[0m \u001b[31m55.1 MB/s\u001b[0m eta \u001b[36m0:00:00\u001b[0m\n",
            "\u001b[?25hRequirement already satisfied: jinja2 in /usr/local/lib/python3.8/dist-packages (from spacy[cuda111]==3.3.0) (2.11.3)\n",
            "Requirement already satisfied: spacy-legacy<3.1.0,>=3.0.9 in /usr/local/lib/python3.8/dist-packages (from spacy[cuda111]==3.3.0) (3.0.12)\n",
            "Requirement already satisfied: numpy>=1.15.0 in /usr/local/lib/python3.8/dist-packages (from spacy[cuda111]==3.3.0) (1.21.6)\n",
            "Requirement already satisfied: catalogue<2.1.0,>=2.0.6 in /usr/local/lib/python3.8/dist-packages (from spacy[cuda111]==3.3.0) (2.0.8)\n",
            "Requirement already satisfied: packaging>=20.0 in /usr/local/lib/python3.8/dist-packages (from spacy[cuda111]==3.3.0) (23.0)\n",
            "Requirement already satisfied: murmurhash<1.1.0,>=0.28.0 in /usr/local/lib/python3.8/dist-packages (from spacy[cuda111]==3.3.0) (1.0.9)\n",
            "Requirement already satisfied: tqdm<5.0.0,>=4.38.0 in /usr/local/lib/python3.8/dist-packages (from spacy[cuda111]==3.3.0) (4.64.1)\n",
            "Requirement already satisfied: langcodes<4.0.0,>=3.2.0 in /usr/local/lib/python3.8/dist-packages (from spacy[cuda111]==3.3.0) (3.3.0)\n",
            "Collecting typer<0.5.0,>=0.3.0\n",
            "  Downloading typer-0.4.2-py3-none-any.whl (27 kB)\n",
            "Requirement already satisfied: preshed<3.1.0,>=3.0.2 in /usr/local/lib/python3.8/dist-packages (from spacy[cuda111]==3.3.0) (3.0.8)\n",
            "Requirement already satisfied: pathy>=0.3.5 in /usr/local/lib/python3.8/dist-packages (from spacy[cuda111]==3.3.0) (0.10.1)\n",
            "Requirement already satisfied: cymem<2.1.0,>=2.0.2 in /usr/local/lib/python3.8/dist-packages (from spacy[cuda111]==3.3.0) (2.0.7)\n",
            "Collecting thinc<8.1.0,>=8.0.14\n",
            "  Downloading thinc-8.0.17-cp38-cp38-manylinux_2_17_x86_64.manylinux2014_x86_64.whl (671 kB)\n",
            "\u001b[2K     \u001b[90m━━━━━━━━━━━━━━━━━━━━━━━━━━━━━━━━━━━━━━\u001b[0m \u001b[32m671.1/671.1 kB\u001b[0m \u001b[31m22.3 MB/s\u001b[0m eta \u001b[36m0:00:00\u001b[0m\n",
            "\u001b[?25hRequirement already satisfied: blis<0.8.0,>=0.4.0 in /usr/local/lib/python3.8/dist-packages (from spacy[cuda111]==3.3.0) (0.7.9)\n",
            "Collecting cupy-cuda111<11.0.0,>=5.0.0b4\n",
            "  Downloading cupy_cuda111-10.6.0-cp38-cp38-manylinux1_x86_64.whl (100.1 MB)\n",
            "\u001b[2K     \u001b[90m━━━━━━━━━━━━━━━━━━━━━━━━━━━━━━━━━━━━━━━\u001b[0m \u001b[32m100.1/100.1 MB\u001b[0m \u001b[31m5.1 MB/s\u001b[0m eta \u001b[36m0:00:00\u001b[0m\n",
            "\u001b[?25hRequirement already satisfied: fastrlock>=0.5 in /usr/local/lib/python3.8/dist-packages (from cupy-cuda111<11.0.0,>=5.0.0b4->spacy[cuda111]==3.3.0) (0.8.1)\n",
            "Requirement already satisfied: smart-open<7.0.0,>=5.2.1 in /usr/local/lib/python3.8/dist-packages (from pathy>=0.3.5->spacy[cuda111]==3.3.0) (6.3.0)\n",
            "Requirement already satisfied: typing-extensions>=3.7.4.3 in /usr/local/lib/python3.8/dist-packages (from pydantic!=1.8,!=1.8.1,<1.9.0,>=1.7.4->spacy[cuda111]==3.3.0) (4.4.0)\n",
            "Requirement already satisfied: urllib3<1.27,>=1.21.1 in /usr/local/lib/python3.8/dist-packages (from requests<3.0.0,>=2.13.0->spacy[cuda111]==3.3.0) (1.24.3)\n",
            "Requirement already satisfied: idna<3,>=2.5 in /usr/local/lib/python3.8/dist-packages (from requests<3.0.0,>=2.13.0->spacy[cuda111]==3.3.0) (2.10)\n",
            "Requirement already satisfied: certifi>=2017.4.17 in /usr/local/lib/python3.8/dist-packages (from requests<3.0.0,>=2.13.0->spacy[cuda111]==3.3.0) (2022.12.7)\n",
            "Requirement already satisfied: chardet<5,>=3.0.2 in /usr/local/lib/python3.8/dist-packages (from requests<3.0.0,>=2.13.0->spacy[cuda111]==3.3.0) (4.0.0)\n",
            "Requirement already satisfied: click<9.0.0,>=7.1.1 in /usr/local/lib/python3.8/dist-packages (from typer<0.5.0,>=0.3.0->spacy[cuda111]==3.3.0) (7.1.2)\n",
            "Requirement already satisfied: MarkupSafe>=0.23 in /usr/local/lib/python3.8/dist-packages (from jinja2->spacy[cuda111]==3.3.0) (2.0.1)\n",
            "Installing collected packages: typer, pydantic, cupy-cuda111, thinc, spacy\n",
            "  Attempting uninstall: typer\n",
            "    Found existing installation: typer 0.7.0\n",
            "    Uninstalling typer-0.7.0:\n",
            "      Successfully uninstalled typer-0.7.0\n",
            "  Attempting uninstall: pydantic\n",
            "    Found existing installation: pydantic 1.10.4\n",
            "    Uninstalling pydantic-1.10.4:\n",
            "      Successfully uninstalled pydantic-1.10.4\n",
            "  Attempting uninstall: thinc\n",
            "    Found existing installation: thinc 8.1.7\n",
            "    Uninstalling thinc-8.1.7:\n",
            "      Successfully uninstalled thinc-8.1.7\n",
            "  Attempting uninstall: spacy\n",
            "    Found existing installation: spacy 3.4.4\n",
            "    Uninstalling spacy-3.4.4:\n",
            "      Successfully uninstalled spacy-3.4.4\n",
            "\u001b[31mERROR: pip's dependency resolver does not currently take into account all the packages that are installed. This behaviour is the source of the following dependency conflicts.\n",
            "en-core-web-sm 3.4.1 requires spacy<3.5.0,>=3.4.0, but you have spacy 3.3.0 which is incompatible.\u001b[0m\u001b[31m\n",
            "\u001b[0mSuccessfully installed cupy-cuda111-10.6.0 pydantic-1.8.2 spacy-3.3.0 thinc-8.0.17 typer-0.4.2\n",
            "\u001b[33mWARNING: Running pip as the 'root' user can result in broken permissions and conflicting behaviour with the system package manager. It is recommended to use a virtual environment instead: https://pip.pypa.io/warnings/venv\u001b[0m\u001b[33m\n",
            "\u001b[0mLooking in indexes: https://pypi.org/simple, https://us-python.pkg.dev/colab-wheels/public/simple/\n",
            "Collecting pyicu\n",
            "  Downloading PyICU-2.10.2.tar.gz (255 kB)\n",
            "\u001b[2K     \u001b[90m━━━━━━━━━━━━━━━━━━━━━━━━━━━━━━━━━━━━━\u001b[0m \u001b[32m255.6/255.6 kB\u001b[0m \u001b[31m977.7 kB/s\u001b[0m eta \u001b[36m0:00:00\u001b[0m\n",
            "\u001b[?25h  Installing build dependencies ... \u001b[?25l\u001b[?25hdone\n",
            "  Getting requirements to build wheel ... \u001b[?25l\u001b[?25hdone\n",
            "  Preparing metadata (pyproject.toml) ... \u001b[?25l\u001b[?25hdone\n",
            "Collecting normality\n",
            "  Downloading normality-2.4.0-py2.py3-none-any.whl (10 kB)\n",
            "Collecting fingerprints\n",
            "  Downloading fingerprints-1.0.3-py2.py3-none-any.whl (13 kB)\n",
            "Requirement already satisfied: nltk in /usr/local/lib/python3.8/dist-packages (3.7)\n",
            "Collecting banal>=1.0.1\n",
            "  Downloading banal-1.0.6-py2.py3-none-any.whl (6.1 kB)\n",
            "Requirement already satisfied: chardet in /usr/local/lib/python3.8/dist-packages (from normality) (4.0.0)\n",
            "Requirement already satisfied: charset-normalizer>=2.0.0 in /usr/local/lib/python3.8/dist-packages (from normality) (2.1.1)\n",
            "Requirement already satisfied: text-unidecode in /usr/local/lib/python3.8/dist-packages (from normality) (1.3)\n",
            "Requirement already satisfied: click in /usr/local/lib/python3.8/dist-packages (from nltk) (7.1.2)\n",
            "Requirement already satisfied: tqdm in /usr/local/lib/python3.8/dist-packages (from nltk) (4.64.1)\n",
            "Requirement already satisfied: regex>=2021.8.3 in /usr/local/lib/python3.8/dist-packages (from nltk) (2022.6.2)\n",
            "Requirement already satisfied: joblib in /usr/local/lib/python3.8/dist-packages (from nltk) (1.2.0)\n",
            "Building wheels for collected packages: pyicu\n",
            "  Building wheel for pyicu (pyproject.toml) ... \u001b[?25l\u001b[?25hdone\n",
            "  Created wheel for pyicu: filename=PyICU-2.10.2-cp38-cp38-linux_x86_64.whl size=1854250 sha256=f236ccf2a7369a94f6388577935e18a4f5c3b06841b38c5c66a088fdad520552\n",
            "  Stored in directory: /root/.cache/pip/wheels/d8/30/74/41fd0a7e2e17f8f92d5a4584c2aad30d8235c8cfa63a13742f\n",
            "Successfully built pyicu\n",
            "Installing collected packages: pyicu, banal, normality, fingerprints\n",
            "Successfully installed banal-1.0.6 fingerprints-1.0.3 normality-2.4.0 pyicu-2.10.2\n",
            "\u001b[33mWARNING: Running pip as the 'root' user can result in broken permissions and conflicting behaviour with the system package manager. It is recommended to use a virtual environment instead: https://pip.pypa.io/warnings/venv\u001b[0m\u001b[33m\n",
            "\u001b[0m/usr/local/lib/python3.8/dist-packages/torch/cuda/__init__.py:497: UserWarning: Can't initialize NVML\n",
            "  warnings.warn(\"Can't initialize NVML\")\n",
            "\u001b[33mDEPRECATION: https://github.com/explosion/spacy-models/releases/download/en_core_web_sm-3.3.0/en_core_web_sm-3.3.0-py3-none-any.whl#egg=en_core_web_sm==3.3.0 contains an egg fragment with a non-PEP 508 name pip 25.0 will enforce this behaviour change. A possible replacement is to use the req @ url syntax, and remove the egg fragment. Discussion can be found at https://github.com/pypa/pip/issues/11617\u001b[0m\u001b[33m\n",
            "\u001b[0mLooking in indexes: https://pypi.org/simple, https://us-python.pkg.dev/colab-wheels/public/simple/\n",
            "Collecting en-core-web-sm==3.3.0\n",
            "  Downloading https://github.com/explosion/spacy-models/releases/download/en_core_web_sm-3.3.0/en_core_web_sm-3.3.0-py3-none-any.whl (12.8 MB)\n",
            "\u001b[2K     \u001b[90m━━━━━━━━━━━━━━━━━━━━━━━━━━━━━━━━━━━━━━━━\u001b[0m \u001b[32m12.8/12.8 MB\u001b[0m \u001b[31m48.4 MB/s\u001b[0m eta \u001b[36m0:00:00\u001b[0m\n",
            "\u001b[?25hRequirement already satisfied: spacy<3.4.0,>=3.3.0.dev0 in /usr/local/lib/python3.8/dist-packages (from en-core-web-sm==3.3.0) (3.3.0)\n",
            "Requirement already satisfied: blis<0.8.0,>=0.4.0 in /usr/local/lib/python3.8/dist-packages (from spacy<3.4.0,>=3.3.0.dev0->en-core-web-sm==3.3.0) (0.7.9)\n",
            "Requirement already satisfied: spacy-legacy<3.1.0,>=3.0.9 in /usr/local/lib/python3.8/dist-packages (from spacy<3.4.0,>=3.3.0.dev0->en-core-web-sm==3.3.0) (3.0.12)\n",
            "Requirement already satisfied: tqdm<5.0.0,>=4.38.0 in /usr/local/lib/python3.8/dist-packages (from spacy<3.4.0,>=3.3.0.dev0->en-core-web-sm==3.3.0) (4.64.1)\n",
            "Requirement already satisfied: murmurhash<1.1.0,>=0.28.0 in /usr/local/lib/python3.8/dist-packages (from spacy<3.4.0,>=3.3.0.dev0->en-core-web-sm==3.3.0) (1.0.9)\n",
            "Requirement already satisfied: cymem<2.1.0,>=2.0.2 in /usr/local/lib/python3.8/dist-packages (from spacy<3.4.0,>=3.3.0.dev0->en-core-web-sm==3.3.0) (2.0.7)\n",
            "Requirement already satisfied: thinc<8.1.0,>=8.0.14 in /usr/local/lib/python3.8/dist-packages (from spacy<3.4.0,>=3.3.0.dev0->en-core-web-sm==3.3.0) (8.0.17)\n",
            "Requirement already satisfied: pathy>=0.3.5 in /usr/local/lib/python3.8/dist-packages (from spacy<3.4.0,>=3.3.0.dev0->en-core-web-sm==3.3.0) (0.10.1)\n",
            "Requirement already satisfied: wasabi<1.1.0,>=0.9.1 in /usr/local/lib/python3.8/dist-packages (from spacy<3.4.0,>=3.3.0.dev0->en-core-web-sm==3.3.0) (0.10.1)\n",
            "Requirement already satisfied: numpy>=1.15.0 in /usr/local/lib/python3.8/dist-packages (from spacy<3.4.0,>=3.3.0.dev0->en-core-web-sm==3.3.0) (1.21.6)\n",
            "Requirement already satisfied: langcodes<4.0.0,>=3.2.0 in /usr/local/lib/python3.8/dist-packages (from spacy<3.4.0,>=3.3.0.dev0->en-core-web-sm==3.3.0) (3.3.0)\n",
            "Requirement already satisfied: packaging>=20.0 in /usr/local/lib/python3.8/dist-packages (from spacy<3.4.0,>=3.3.0.dev0->en-core-web-sm==3.3.0) (23.0)\n",
            "Requirement already satisfied: srsly<3.0.0,>=2.4.3 in /usr/local/lib/python3.8/dist-packages (from spacy<3.4.0,>=3.3.0.dev0->en-core-web-sm==3.3.0) (2.4.5)\n",
            "Requirement already satisfied: requests<3.0.0,>=2.13.0 in /usr/local/lib/python3.8/dist-packages (from spacy<3.4.0,>=3.3.0.dev0->en-core-web-sm==3.3.0) (2.25.1)\n",
            "Requirement already satisfied: catalogue<2.1.0,>=2.0.6 in /usr/local/lib/python3.8/dist-packages (from spacy<3.4.0,>=3.3.0.dev0->en-core-web-sm==3.3.0) (2.0.8)\n",
            "Requirement already satisfied: spacy-loggers<2.0.0,>=1.0.0 in /usr/local/lib/python3.8/dist-packages (from spacy<3.4.0,>=3.3.0.dev0->en-core-web-sm==3.3.0) (1.0.4)\n",
            "Requirement already satisfied: pydantic!=1.8,!=1.8.1,<1.9.0,>=1.7.4 in /usr/local/lib/python3.8/dist-packages (from spacy<3.4.0,>=3.3.0.dev0->en-core-web-sm==3.3.0) (1.8.2)\n",
            "Requirement already satisfied: setuptools in /usr/local/lib/python3.8/dist-packages (from spacy<3.4.0,>=3.3.0.dev0->en-core-web-sm==3.3.0) (57.4.0)\n",
            "Requirement already satisfied: typer<0.5.0,>=0.3.0 in /usr/local/lib/python3.8/dist-packages (from spacy<3.4.0,>=3.3.0.dev0->en-core-web-sm==3.3.0) (0.4.2)\n",
            "Requirement already satisfied: jinja2 in /usr/local/lib/python3.8/dist-packages (from spacy<3.4.0,>=3.3.0.dev0->en-core-web-sm==3.3.0) (2.11.3)\n",
            "Requirement already satisfied: preshed<3.1.0,>=3.0.2 in /usr/local/lib/python3.8/dist-packages (from spacy<3.4.0,>=3.3.0.dev0->en-core-web-sm==3.3.0) (3.0.8)\n",
            "Requirement already satisfied: smart-open<7.0.0,>=5.2.1 in /usr/local/lib/python3.8/dist-packages (from pathy>=0.3.5->spacy<3.4.0,>=3.3.0.dev0->en-core-web-sm==3.3.0) (6.3.0)\n",
            "Requirement already satisfied: typing-extensions>=3.7.4.3 in /usr/local/lib/python3.8/dist-packages (from pydantic!=1.8,!=1.8.1,<1.9.0,>=1.7.4->spacy<3.4.0,>=3.3.0.dev0->en-core-web-sm==3.3.0) (4.4.0)\n",
            "Requirement already satisfied: certifi>=2017.4.17 in /usr/local/lib/python3.8/dist-packages (from requests<3.0.0,>=2.13.0->spacy<3.4.0,>=3.3.0.dev0->en-core-web-sm==3.3.0) (2022.12.7)\n",
            "Requirement already satisfied: urllib3<1.27,>=1.21.1 in /usr/local/lib/python3.8/dist-packages (from requests<3.0.0,>=2.13.0->spacy<3.4.0,>=3.3.0.dev0->en-core-web-sm==3.3.0) (1.24.3)\n",
            "Requirement already satisfied: chardet<5,>=3.0.2 in /usr/local/lib/python3.8/dist-packages (from requests<3.0.0,>=2.13.0->spacy<3.4.0,>=3.3.0.dev0->en-core-web-sm==3.3.0) (4.0.0)\n",
            "Requirement already satisfied: idna<3,>=2.5 in /usr/local/lib/python3.8/dist-packages (from requests<3.0.0,>=2.13.0->spacy<3.4.0,>=3.3.0.dev0->en-core-web-sm==3.3.0) (2.10)\n",
            "Requirement already satisfied: click<9.0.0,>=7.1.1 in /usr/local/lib/python3.8/dist-packages (from typer<0.5.0,>=0.3.0->spacy<3.4.0,>=3.3.0.dev0->en-core-web-sm==3.3.0) (7.1.2)\n",
            "Requirement already satisfied: MarkupSafe>=0.23 in /usr/local/lib/python3.8/dist-packages (from jinja2->spacy<3.4.0,>=3.3.0.dev0->en-core-web-sm==3.3.0) (2.0.1)\n",
            "Installing collected packages: en-core-web-sm\n",
            "  Attempting uninstall: en-core-web-sm\n",
            "    Found existing installation: en-core-web-sm 3.4.1\n",
            "    Uninstalling en-core-web-sm-3.4.1:\n",
            "      Successfully uninstalled en-core-web-sm-3.4.1\n",
            "Successfully installed en-core-web-sm-3.3.0\n",
            "\u001b[33mWARNING: Running pip as the 'root' user can result in broken permissions and conflicting behaviour with the system package manager. It is recommended to use a virtual environment instead: https://pip.pypa.io/warnings/venv\u001b[0m\u001b[33m\n",
            "\u001b[0m\u001b[38;5;2m✔ Download and installation successful\u001b[0m\n",
            "You can now load the package via spacy.load('en_core_web_sm')\n",
            "/usr/local/lib/python3.8/dist-packages/torch/cuda/__init__.py:497: UserWarning: Can't initialize NVML\n",
            "  warnings.warn(\"Can't initialize NVML\")\n",
            "\u001b[2K\u001b[38;5;2m✔ Loaded compatibility table\u001b[0m\n",
            "\u001b[1m\n",
            "================= Installed pipeline packages (spaCy v3.3.0) =================\u001b[0m\n",
            "\u001b[38;5;4mℹ spaCy installation: /usr/local/lib/python3.8/dist-packages/spacy\u001b[0m\n",
            "\n",
            "NAME             SPACY                 VERSION                            \n",
            "en_core_web_sm   >=3.3.0.dev0,<3.4.0   \u001b[38;5;2m3.3.0\u001b[0m   \u001b[38;5;2m✔\u001b[0m\n",
            "\n"
          ]
        }
      ]
    },
    {
      "cell_type": "code",
      "execution_count": 4,
      "metadata": {
        "id": "mAgpHY5pNRCF"
      },
      "outputs": [],
      "source": [
        "import io\n",
        "import csv\n",
        "import requests\n",
        "DATA_URL = \"https://github.com/opensanctions/storyweb/blob/main/contrib/tagged_sentences_20230203.csv?raw=true\"\n",
        "res = requests.get(DATA_URL)\n",
        "buf = io.StringIO(res.text)\n",
        "sentences = []\n",
        "for row in csv.DictReader(buf):\n",
        "  sentences.append(row)"
      ]
    },
    {
      "cell_type": "code",
      "source": [
        "import spacy\n",
        "from spacy import displacy\n",
        "import nltk\n",
        "from nltk.corpus import stopwords\n",
        "\n",
        "nltk.download('stopwords')\n",
        "en_stopwords = stopwords.words('english')\n",
        "\n",
        "spacy.prefer_gpu()\n",
        "nlp = spacy.load(\"en_core_web_sm\")"
      ],
      "metadata": {
        "colab": {
          "base_uri": "https://localhost:8080/"
        },
        "id": "o7AF_Bz3NqRh",
        "outputId": "07337433-ebf4-429e-af19-ccd337fec4bb"
      },
      "execution_count": 7,
      "outputs": [
        {
          "output_type": "stream",
          "name": "stderr",
          "text": [
            "[nltk_data] Downloading package stopwords to /root/nltk_data...\n",
            "[nltk_data]   Unzipping corpora/stopwords.zip.\n"
          ]
        }
      ]
    },
    {
      "cell_type": "code",
      "source": [
        "for sent in sentences:\n",
        "  doc = nlp(sent['sentence'])\n",
        "  tokens = []\n",
        "  for token in doc:\n",
        "    lemma = str(token.lemma_).lower()\n",
        "    if lemma in en_stopwords or len(lemma) < 3:\n",
        "      continue\n",
        "    tokens.append(lemma)\n",
        "  sent['tokens'] = tokens"
      ],
      "metadata": {
        "id": "UoJSJvH-O8i8"
      },
      "execution_count": 12,
      "outputs": []
    },
    {
      "cell_type": "code",
      "source": [
        "from collections import Counter\n",
        "\n",
        "rels = {}\n",
        "for sent in sentences:\n",
        "  link_type = sent['link_type']\n",
        "  # print(sent['link_type'])\n",
        "  for token in sent['tokens']:\n",
        "    if link_type not in rels:\n",
        "      rels[link_type] = Counter()\n",
        "    rels[link_type][token] += 1\n",
        "  \n",
        "\n",
        "for link_type, counter in rels.items():\n",
        "  print(\"XXX\", link_type, \"TOK\", counter.most_common(50))\n"
      ],
      "metadata": {
        "colab": {
          "base_uri": "https://localhost:8080/"
        },
        "id": "zEBsxeEGQRdo",
        "outputId": "64ec7120-407f-47e0-bf3f-7276fe182ff4"
      },
      "execution_count": 14,
      "outputs": [
        {
          "output_type": "stream",
          "name": "stdout",
          "text": [
            "XXX FAMILY TOK [('gupta', 36), ('2017', 35), ('guptas', 31), ('president', 31), ('aliyev', 31), ('2016', 27), ('guptaleak', 22), ('august', 19), ('ilham', 19), ('putin', 18), ('2014', 17), ('october', 16), ('zuma', 15), ('state', 15), ('july', 14), ('november', 13), ('2011', 13), ('deal', 12), ('december', 12), ('aliyeva', 12), ('heydar', 12), ('daughter', 11), ('russian', 11), ('vladimir', 10), ('azerbaijani', 10), ('september', 9), ('tony', 9), ('eskom', 9), ('mckinsey', 9), ('transnet', 9), ('2015', 9), ('azerbaijan', 9), ('family', 8), ('million', 8), ('march', 8), ('board', 8), ('djukanovic', 8), ('igor', 8), ('cousin', 8), ('bank', 8), ('carole', 8), ('trillian', 7), ('part', 7), ('mine', 7), ('february', 7), ('june', 7), ('2013', 7), ('2010', 7), ('arzu', 7), ('leyla', 7)]\n",
            "XXX WITHIN TOK [('new', 506), ('york', 452), ('university', 412), ('offshore', 278), ('institution', 270), ('london', 258), ('leaks', 254), ('database', 253), ('usa', 247), ('u.s.', 224), ('district', 166), ('baku', 164), ('united', 160), ('say', 157), ('azerbaijan', 156), ('million', 150), ('college', 150), ('court', 139), ('company', 136), ('money', 124), ('attorney', 118), ('charge', 118), ('year', 117), ('bank', 102), ('states', 100), ('former', 97), ('southern', 87), ('base', 86), ('sarajevo', 85), ('capital', 82), ('one', 81), ('u.k.', 81), ('authority', 78), ('bosnia', 74), ('manhattan', 71), ('two', 70), ('south', 70), ('report', 69), ('office', 69), ('group', 69), ('africa', 67), ('include', 67), ('us$', 65), ('accord', 63), ('arrest', 62), ('corruption', 62), ('crime', 61), ('state', 60), ('property', 59), ('last', 58)]\n",
            "XXX MANAGER TOK [('putin', 415), ('president', 361), ('russia', 346), ('occrp', 338), ('vladimir', 330), ('russian', 319), ('say', 214), ('sullivan', 160), ('drew', 159), ('corruption', 143), ('editor', 134), ('zuma', 115), ('sanction', 103), ('kremlin', 96), ('radu', 95), ('paul', 93), ('anc', 92), ('director', 92), ('papers', 88), ('jacob', 86), ('company', 86), ('founder', 84), ('year', 82), ('investigative', 82), ('one', 82), ('former', 76), ('crime', 75), ('close', 75), ('executive', 72), ('party', 70), ('reporting', 70), ('report', 68), ('navalny', 66), ('project', 65), ('offshore', 65), ('member', 60), ('oligarch', 60), ('investigation', 59), ('ukraine', 59), ('bank', 58), ('government', 55), ('also', 52), ('first', 51), ('state', 50), ('minister', 49), ('network', 49), ('medium', 49), ('u.s.', 49), ('anti', 48), ('alexei', 46)]\n",
            "XXX ASSOCIATE TOK [('european', 414), ('occrp', 359), ('corruption', 282), ('commission', 272), ('president', 262), ('report', 173), ('international', 168), ('country', 160), ('russian', 153), ('anti', 140), ('union', 132), ('transparency', 130), ('crime', 128), ('partner', 126), ('putin', 126), ('gazeta', 124), ('novaya', 123), ('company', 120), ('global', 119), ('zuma', 115), ('say', 115), ('consortium', 114), ('money', 111), ('vladimir', 110), ('investigative', 105), ('project', 105), ('member', 102), ('part', 101), ('organized', 100), ('story', 93), ('reporting', 92), ('former', 91), ('jacob', 87), ('million', 87), ('also', 83), ('investigation', 83), ('usa', 82), ('one', 80), ('state', 79), ('icij', 79), ('year', 78), ('close', 77), ('papers', 77), ('new', 68), ('russia', 67), ('business', 66), ('friend', 64), ('panama', 64), ('moldova', 63), ('accord', 62)]\n",
            "XXX EMPLOYEE TOK [('ismayilova', 400), ('radio', 382), ('occrp', 304), ('khadija', 235), ('free', 188), ('europe', 185), ('journalist', 179), ('liberty', 155), ('reporter', 143), ('azerbaijan', 130), ('azerbaijani', 122), ('president', 112), ('zuma', 110), ('investigative', 110), ('charge', 105), ('corruption', 98), ('anc', 92), ('partner', 92), ('jacob', 84), ('rfe', 76), ('work', 72), ('former', 68), ('project', 68), ('say', 67), ('baku', 58), ('human', 58), ('include', 55), ('award', 55), ('court', 51), ('coordinator', 50), ('reporting', 49), ('aliyev', 49), ('right', 47), ('crime', 46), ('regional', 44), ('trial', 44), ('colleague', 43), ('correspondent', 43), ('government', 41), ('politically', 40), ('suicide', 40), ('investigation', 39), ('continue', 38), ('azadliq', 38), ('organized', 37), ('motivated', 37), ('show', 35), ('south', 34), ('call', 34), ('family', 33)]\n",
            "XXX ANTAGONIST TOK [('president', 211), ('russian', 204), ('putin', 163), ('tiger', 141), ('baskin', 138), ('vladimir', 137), ('navalny', 131), ('king', 126), ('ukraine', 117), ('russia', 117), ('carole', 112), ('exotic', 110), ('selebi', 103), ('joe', 101), ('ismayilova', 91), ('aliyev', 90), ('season', 90), ('ilham', 85), ('kremlin', 85), ('say', 81), ('agliotti', 76), ('alexei', 71), ('government', 62), ('2021', 62), ('series', 61), ('critic', 59), ('state', 58), ('corruption', 57), ('former', 56), ('family', 55), ('first', 53), ('sanction', 52), ('investigation', 49), ('cat', 48), ('call', 47), ('big', 47), ('invasion', 47), ('opposition', 47), ('anc', 46), ('release', 45), ('report', 44), ('include', 43), ('azerbaijani', 43), ('december', 43), ('police', 39), ('company', 39), ('murder', 39), ('announce', 39), ('link', 37), ('eff', 35)]\n",
            "XXX INDIRECT TOK [('russian', 69), ('putin', 61), ('president', 49), ('vladimir', 49), ('company', 32), ('papers', 32), ('oligarch', 24), ('russia', 24), ('offshore', 24), ('sanction', 22), ('businessman', 22), ('close', 21), ('u.s.', 20), ('bout', 20), ('limited', 19), ('group', 18), ('sergei', 17), ('deripaska', 16), ('albert', 16), ('dayan', 16), ('link', 15), ('investigation', 15), ('lawyer', 15), ('oleg', 14), ('bank', 14), ('paradise', 14), ('billion', 13), ('money', 13), ('eskom', 12), ('former', 12), ('oligarchs', 12), ('friend', 12), ('tie', 11), ('one', 11), ('magnitsky', 11), ('case', 11), ('capital', 10), ('oil', 10), ('u.k.', 10), ('pandora', 10), ('list', 10), ('major', 10), ('yevgeny', 10), ('prigozhin', 10), ('wagner', 10), ('partners', 9), ('state', 9), ('circle', 9), ('trillian', 8), ('firm', 8)]\n",
            "XXX BUSINESS TOK [('occrp', 659), ('investigative', 611), ('icij', 610), ('zeitung', 575), ('süddeutsche', 548), ('international', 497), ('consortium', 463), ('journalists', 463), ('share', 375), ('german', 367), ('partner', 365), ('newspaper', 316), ('project', 300), ('medium', 284), ('document', 277), ('reporting', 276), ('corruption', 244), ('crime', 238), ('organized', 232), ('include', 228), ('bank', 227), ('obtain', 219), ('leak', 213), ('radio', 205), ('papers', 198), ('investigation', 197), ('panama', 176), ('guardian', 159), ('world', 152), ('company', 150), ('offshore', 134), ('datum', 125), ('country', 123), ('million', 110), ('journalist', 110), ('europe', 104), ('reporter', 101), ('news', 98), ('free', 98), ('firm', 97), ('mossack', 97), ('fonseca', 97), ('new', 96), ('around', 95), ('report', 87), ('law', 86), ('work', 85), ('receive', 83), ('usa', 80), ('business', 76)]\n",
            "XXX OTHER TOK [('financial', 134), ('treasury', 107), ('enforcement', 103), ('crimes', 101), ('u.s.', 100), ('network', 99), ('fincen', 90), ('department', 73), ('bank', 70), ('report', 62), ('file', 52), ('suspicious', 45), ('know', 44), ('activity', 42), ('2,100', 40), ('document', 28), ('investigation', 24), ('base', 24), ('intelligence', 24), ('president', 21), ('unit', 20), ('include', 19), ('sar', 18), ('money', 17), ('leak', 17), ('files', 16), ('secret', 16), ('agency', 13), ('submit', 13), ('trump', 12), ('company', 12), ('dozen', 12), ('interview', 12), ('donald', 11), ('news', 11), ('say', 11), ('russian', 10), ('part', 10), ('laundering', 10), ('accord', 10), ('icij', 10), ('new', 10), ('vladimir', 9), ('putin', 9), ('also', 9), ('buzzfeed', 9), ('write', 9), ('player', 9), ('reports', 9), ('provide', 8)]\n",
            "XXX OWNER TOK [('kolomoisky', 47), ('privatbank', 46), ('bank', 34), ('billion', 27), ('mikhail', 25), ('owner', 24), ('russian', 22), ('ukraine', 21), ('former', 21), ('large', 19), ('company', 17), ('businessman', 17), ('oligarch', 15), ('business', 15), ('boholiubov', 15), ('us$', 14), ('u.s.', 12), ('loan', 12), ('also', 12), ('fridman', 11), ('million', 11), ('accord', 11), ('gennadiy', 11), ('russia', 10), ('financial', 10), ('control', 10), ('two', 10), ('khodorkovsky', 10), ('yukos', 10), ('ihor', 10), ('alfa', 9), ('allege', 9), ('2016', 9), ('scheme', 8), ('government', 8), ('club', 8), ('ukrainian', 8), ('last', 8), ('report', 8), ('occrp', 8), ('among', 7), ('shareholder', 7), ('group', 7), ('institution', 7), ('fraudulent', 7), ('igor', 7), ('roman', 7), ('abramovich', 7), ('chelsea', 7), ('putin', 7)]\n",
            "XXX MEMBER TOK [('christian', 20), ('union', 16), ('german', 15), ('member', 14), ('former', 13), ('karin', 12), ('strenz', 12), ('eduard', 10), ('lintner', 10), ('democratic', 10), ('social', 8), ('party', 8), ('csu', 7), ('cdu', 7), ('parliament', 7), ('rule', 6), ('daily', 5), ('süddeutsche', 5), ('zeitung', 5), ('report', 5), ('police', 5), ('investigate', 5), ('germany', 5), ('parliamentarian', 4), ('azerbaijan', 4), ('receive', 4), ('lobbyist', 4), ('bavaria', 3), ('one', 2), ('payment', 2), ('61,000', 2), ('84,000', 2), ('describe', 2), ('service', 2), ('belong', 2), ('country', 2), ('govern', 2), ('coalition', 2), ('president', 2), ('slovenian', 2), ('national', 2), ('substitute', 2), ('pace', 2), ('zmago', 2), ('jelincic', 2), ('plemeniti', 2), ('implicate', 2), ('laundromat', 2), ('dies', 2), ('lawmaker', 2)]\n"
          ]
        }
      ]
    }
  ]
}